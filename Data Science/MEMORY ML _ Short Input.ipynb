{
 "cells": [
  {
   "cell_type": "code",
   "execution_count": null,
   "metadata": {},
   "outputs": [],
   "source": [
    "# Utilities\n",
    "import numpy as np\n",
    "import pandas as pd\n",
    "\n",
    "# ML\n",
    "#import sklearn\n",
    "#sklearn.__version__# use this when reopening previously saved ML models\n",
    "import matplotlib.pyplot as plt\n",
    "import re\n",
    "from sklearn.model_selection import cross_val_score, GridSearchCV, RandomizedSearchCV, train_test_split\n",
    "from sklearn.ensemble import RandomForestRegressor\n",
    "from sklearn.preprocessing import MinMaxScaler\n",
    "from sklearn.utils import shuffle\n",
    "from sklearn.metrics import mean_squared_error, mean_absolute_error\n",
    "    #pprint allows us to see current hyperparameter values of our model \n",
    "from pprint import pprint\n",
    "# import data\n",
    "memData = pd.read_csv(\"vminCkbNEW.csv\")\n",
    "\n",
    "#for i in memData.columns:\n",
    "#    print(memData[i].unique())\n",
    "\n",
    "# drop file index for now, maybe used later to include data from the wafer\n",
    "memData.drop([\"Arch. Type\", \"A/S\", \"RAWLM\", \"RAWL\", \"WABLM\", \"WABL\", \"EMAP\", \"EMAS\", \"EMAW\", \"EMA#2\", \"File Index\", \"Test Number\", \"??\", \"VDDPE (Range)\", \"VDDCE (Range)\", \"DVDD (Range)\", \"Period (Range)\", \"Value\", \"Number of Failed Pins\", \"Failed Pins\"], axis = 1, inplace = True)\n",
    "memData.dropna(subset=['Shmoo Value'], inplace=True)\n",
    "memData['EMA#1'] = memData['EMA#1'].map(lambda x: x.lstrip('A'))\n",
    "memData[\"Shmoo Value\"] = memData[\"Shmoo Value\"].astype('float')\n",
    "columns = ['EMA#1', 'KEN']\n",
    "for c in columns:\n",
    "    memData[c] = memData[c].astype('int')\n",
    "memData['Chip Temp'] = pd.to_numeric(memData['Chip Temp'], errors='coerce').fillna(-40.0).astype(float)\n",
    "memData['Chip Temp'] = memData['Chip Temp'].map(lambda x: x/150.0)\n",
    "memData['Architecture'] = memData['Architecture'].map(lambda x: re.search('[A-Za-z0-9]+', x).group(0))\n",
    "memData = pd.get_dummies(memData, columns=[\"Architecture\", \"Chip Type\", \"EMA#1\", \"KEN\"])\n",
    "memData.head()\n"
   ]
  },
  {
   "cell_type": "code",
   "execution_count": null,
   "metadata": {},
   "outputs": [],
   "source": [
    "# create training and testing sets\n",
    "X = memData.copy()\n",
    "X = shuffle(X)\n",
    "y = X[\"Shmoo Value\"]\n",
    "X.drop([\"Shmoo Value\"], axis = 1, inplace = True)\n",
    "\n",
    "X_train = X[:146514]\n",
    "y_train = y[:146514]\n",
    "X_test = X[-14490:]\n",
    "y_test = y[-14490:]\n"
   ]
  },
  {
   "cell_type": "code",
   "execution_count": null,
   "metadata": {
    "scrolled": true
   },
   "outputs": [],
   "source": [
    "# Number of trees in random forest\n",
    "n_estimators = [300, 500]\n",
    "# Number of features to consider at every split\n",
    "max_features = ['auto']\n",
    "# Maximum number of levels in tree\n",
    "max_depth = [None]\n",
    "# Minimum number of samples required to split a node\n",
    "min_samples_split = [5,6]\n",
    "# Minimum number of samples required at each leaf node\n",
    "min_samples_leaf = [2,3]\n",
    "# Method of selecting samples for training each tree\n",
    "bootstrap = [True]\n",
    "\n",
    "# Create the random grid\n",
    "param_grid = {'n_estimators': n_estimators,\n",
    "               'max_features': max_features,\n",
    "               'max_depth': max_depth,\n",
    "               'min_samples_split': min_samples_split,\n",
    "               'min_samples_leaf': min_samples_leaf,\n",
    "               'bootstrap': bootstrap}\n",
    "pprint(param_grid)\n",
    "\n",
    "\n",
    "rfGrid = RandomForestRegressor()\n",
    "grid_search = GridSearchCV(estimator = rfGrid, param_grid = param_grid, \n",
    "                          cv = 3, verbose = 50, n_jobs=-1)\n",
    "\n",
    "grid_search.fit(X_train, y_train)\n",
    "grid_search.best_params_\n"
   ]
  },
  {
   "cell_type": "code",
   "execution_count": null,
   "metadata": {},
   "outputs": [],
   "source": [
    "from joblib import load"
   ]
  },
  {
   "cell_type": "code",
   "execution_count": null,
   "metadata": {},
   "outputs": [],
   "source": [
    "best_grid = grid_search.best_estimator_\n",
    "y_predicted_grid = best_grid.predict(X_test)\n",
    "feature_importances = pd.DataFrame(best_grid.feature_importances_,\n",
    "                                   index = X_train.columns,\n",
    "                                    columns=['importance']).sort_values('importance', ascending=False)\n"
   ]
  },
  {
   "cell_type": "code",
   "execution_count": null,
   "metadata": {
    "scrolled": false
   },
   "outputs": [],
   "source": [
    "print(feature_importances)\n",
    "ax = feature_importances.plot.bar(rot=65)\n",
    "plt.title(\"Feature importance in Random forest model.\")\n",
    "plt.show()\n",
    "plt.scatter(y_test, y_predicted_grid,  color='green', alpha=0.03)\n",
    "plt.xlim([0.2,0.7])\n",
    "plt.ylim([0.2,0.7])\n",
    "plt.plot([0.2,0.7],[0.2,0.7], color='black')\n",
    "plt.xlabel(\"Test Vmin\")\n",
    "plt.ylabel(\"Predicted Vmin\")\n",
    "plt.title(\"Memory Cell Vmin Prediction Error\")\n",
    "plt.show()\n",
    "\n",
    "print(mean_absolute_error(y_test, y_predicted_grid))\n",
    "print(mean_absolute_error(y_test, y_predicted_grid)/y_test.mean())\n",
    "\n",
    "from joblib import dump, load\n",
    "dump(best_grid, 'RFVminMemShort.joblib')"
   ]
  },
  {
   "cell_type": "code",
   "execution_count": null,
   "metadata": {},
   "outputs": [],
   "source": [
    "from joblib import load\n",
    "best_grid = load('RFVminMemShort.joblib')\n",
    "y_predicted_grid = best_grid.predict(X_test)\n",
    "\n",
    "feature_importances = pd.DataFrame(best_grid.feature_importances_,\n",
    "                                   index = X_train.columns,\n",
    "                                    columns=['importance']).sort_values('importance', ascending=False)\n",
    "print(feature_importances)\n",
    "ax = feature_importances.plot.bar(rot=65)\n",
    "plt.title(\"Feature importance in Random forest model.\")\n",
    "plt.show()\n",
    "plt.scatter(y_test, y_predicted_grid,  color='green', alpha=0.03)\n",
    "plt.xlim([0.2,0.7])\n",
    "plt.ylim([0.2,0.7])\n",
    "plt.plot([0.2,0.7],[0.2,0.7], color='black')\n",
    "plt.xlabel(\"Test Vmin\")\n",
    "plt.ylabel(\"Predicted Vmin\")\n",
    "plt.title(\"Memory Cell Vmin Prediction Error\")\n",
    "plt.show()\n"
   ]
  },
  {
   "cell_type": "code",
   "execution_count": null,
   "metadata": {},
   "outputs": [],
   "source": []
  }
 ],
 "metadata": {
  "kernelspec": {
   "display_name": "Python 3",
   "language": "python",
   "name": "python3"
  },
  "language_info": {
   "codemirror_mode": {
    "name": "ipython",
    "version": 3
   },
   "file_extension": ".py",
   "mimetype": "text/x-python",
   "name": "python",
   "nbconvert_exporter": "python",
   "pygments_lexer": "ipython3",
   "version": "3.6.7"
  }
 },
 "nbformat": 4,
 "nbformat_minor": 2
}
